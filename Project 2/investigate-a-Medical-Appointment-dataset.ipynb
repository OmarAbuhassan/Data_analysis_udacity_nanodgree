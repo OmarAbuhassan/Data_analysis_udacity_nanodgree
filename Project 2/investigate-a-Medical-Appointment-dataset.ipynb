{
 "cells": [
  {
   "cell_type": "markdown",
   "metadata": {},
   "source": [
    "\n",
    "\n",
    "# Project: Medical Appointment No Shows Data Analysis \n",
    "\n",
    "## Table of Contents\n",
    "<ul>\n",
    "<li><a href=\"#intro\">Introduction</a></li>\n",
    "<li><a href=\"#wrangling\">Data Wrangling</a></li>\n",
    "<li><a href=\"#eda\">Exploratory Data Analysis</a></li>\n",
    "<li><a href=\"#conclusions\">Conclusions</a></li>\n",
    "</ul>"
   ]
  },
  {
   "cell_type": "markdown",
   "metadata": {},
   "source": [
    "<a id='intro'></a>\n",
    "## Introduction\n",
    "\n",
    "> In this project I will analyze the data set that contains more than 100K medical appointments in Brazil to investigate the reasons behind no shows\n"
   ]
  },
  {
   "cell_type": "markdown",
   "metadata": {},
   "source": [
    "### Questions\n",
    "\n",
    "<ol>\n",
    "    <li> Does having chronic disease (Hipertension or Diabetes) encourage to show ?\n",
    "    <li> Does Gender make a diffrence in showing the patient?\n",
    "    <li> Does receiving SMS encourage to show ?\n"
   ]
  },
  {
   "cell_type": "code",
   "execution_count": 32,
   "metadata": {},
   "outputs": [],
   "source": [
    "import pandas as pd \n",
    "import numpy as np\n",
    "import matplotlib.pyplot as plt\n",
    "import seaborn as sns\n",
    "%matplotlib inline "
   ]
  },
  {
   "cell_type": "markdown",
   "metadata": {},
   "source": [
    "<a id='wrangling'></a>\n",
    "## Data Wrangling\n",
    "\n",
    "\n",
    "### General Properties"
   ]
  },
  {
   "cell_type": "code",
   "execution_count": 33,
   "metadata": {},
   "outputs": [
    {
     "data": {
      "text/html": [
       "<div>\n",
       "<style scoped>\n",
       "    .dataframe tbody tr th:only-of-type {\n",
       "        vertical-align: middle;\n",
       "    }\n",
       "\n",
       "    .dataframe tbody tr th {\n",
       "        vertical-align: top;\n",
       "    }\n",
       "\n",
       "    .dataframe thead th {\n",
       "        text-align: right;\n",
       "    }\n",
       "</style>\n",
       "<table border=\"1\" class=\"dataframe\">\n",
       "  <thead>\n",
       "    <tr style=\"text-align: right;\">\n",
       "      <th></th>\n",
       "      <th>PatientId</th>\n",
       "      <th>AppointmentID</th>\n",
       "      <th>Gender</th>\n",
       "      <th>ScheduledDay</th>\n",
       "      <th>AppointmentDay</th>\n",
       "      <th>Age</th>\n",
       "      <th>Neighbourhood</th>\n",
       "      <th>Scholarship</th>\n",
       "      <th>Hipertension</th>\n",
       "      <th>Diabetes</th>\n",
       "      <th>Alcoholism</th>\n",
       "      <th>Handcap</th>\n",
       "      <th>SMS_received</th>\n",
       "      <th>No-show</th>\n",
       "    </tr>\n",
       "  </thead>\n",
       "  <tbody>\n",
       "    <tr>\n",
       "      <th>0</th>\n",
       "      <td>2.987250e+13</td>\n",
       "      <td>5642903</td>\n",
       "      <td>F</td>\n",
       "      <td>2016-04-29T18:38:08Z</td>\n",
       "      <td>2016-04-29T00:00:00Z</td>\n",
       "      <td>62</td>\n",
       "      <td>JARDIM DA PENHA</td>\n",
       "      <td>0</td>\n",
       "      <td>1</td>\n",
       "      <td>0</td>\n",
       "      <td>0</td>\n",
       "      <td>0</td>\n",
       "      <td>0</td>\n",
       "      <td>No</td>\n",
       "    </tr>\n",
       "    <tr>\n",
       "      <th>1</th>\n",
       "      <td>5.589978e+14</td>\n",
       "      <td>5642503</td>\n",
       "      <td>M</td>\n",
       "      <td>2016-04-29T16:08:27Z</td>\n",
       "      <td>2016-04-29T00:00:00Z</td>\n",
       "      <td>56</td>\n",
       "      <td>JARDIM DA PENHA</td>\n",
       "      <td>0</td>\n",
       "      <td>0</td>\n",
       "      <td>0</td>\n",
       "      <td>0</td>\n",
       "      <td>0</td>\n",
       "      <td>0</td>\n",
       "      <td>No</td>\n",
       "    </tr>\n",
       "  </tbody>\n",
       "</table>\n",
       "</div>"
      ],
      "text/plain": [
       "      PatientId  AppointmentID Gender          ScheduledDay  \\\n",
       "0  2.987250e+13        5642903      F  2016-04-29T18:38:08Z   \n",
       "1  5.589978e+14        5642503      M  2016-04-29T16:08:27Z   \n",
       "\n",
       "         AppointmentDay  Age    Neighbourhood  Scholarship  Hipertension  \\\n",
       "0  2016-04-29T00:00:00Z   62  JARDIM DA PENHA            0             1   \n",
       "1  2016-04-29T00:00:00Z   56  JARDIM DA PENHA            0             0   \n",
       "\n",
       "   Diabetes  Alcoholism  Handcap  SMS_received No-show  \n",
       "0         0           0        0             0      No  \n",
       "1         0           0        0             0      No  "
      ]
     },
     "execution_count": 33,
     "metadata": {},
     "output_type": "execute_result"
    }
   ],
   "source": [
    "# load the data set\n",
    "df = pd.read_csv('noshowappointments-kagglev2-may-2016.csv')\n",
    "df.head(2)"
   ]
  },
  {
   "cell_type": "code",
   "execution_count": 34,
   "metadata": {},
   "outputs": [
    {
     "data": {
      "text/html": [
       "<div>\n",
       "<style scoped>\n",
       "    .dataframe tbody tr th:only-of-type {\n",
       "        vertical-align: middle;\n",
       "    }\n",
       "\n",
       "    .dataframe tbody tr th {\n",
       "        vertical-align: top;\n",
       "    }\n",
       "\n",
       "    .dataframe thead th {\n",
       "        text-align: right;\n",
       "    }\n",
       "</style>\n",
       "<table border=\"1\" class=\"dataframe\">\n",
       "  <thead>\n",
       "    <tr style=\"text-align: right;\">\n",
       "      <th></th>\n",
       "      <th>PatientId</th>\n",
       "      <th>AppointmentID</th>\n",
       "      <th>Age</th>\n",
       "      <th>Scholarship</th>\n",
       "      <th>Hipertension</th>\n",
       "      <th>Diabetes</th>\n",
       "      <th>Alcoholism</th>\n",
       "      <th>Handcap</th>\n",
       "      <th>SMS_received</th>\n",
       "    </tr>\n",
       "    <tr>\n",
       "      <th>No-show</th>\n",
       "      <th></th>\n",
       "      <th></th>\n",
       "      <th></th>\n",
       "      <th></th>\n",
       "      <th></th>\n",
       "      <th></th>\n",
       "      <th></th>\n",
       "      <th></th>\n",
       "      <th></th>\n",
       "    </tr>\n",
       "  </thead>\n",
       "  <tbody>\n",
       "    <tr>\n",
       "      <th>No</th>\n",
       "      <td>1.476845e+14</td>\n",
       "      <td>5.681137e+06</td>\n",
       "      <td>37.790064</td>\n",
       "      <td>0.093903</td>\n",
       "      <td>0.204392</td>\n",
       "      <td>0.073837</td>\n",
       "      <td>0.030417</td>\n",
       "      <td>0.022742</td>\n",
       "      <td>0.291334</td>\n",
       "    </tr>\n",
       "    <tr>\n",
       "      <th>Yes</th>\n",
       "      <td>1.467523e+14</td>\n",
       "      <td>5.652259e+06</td>\n",
       "      <td>34.317667</td>\n",
       "      <td>0.115507</td>\n",
       "      <td>0.169004</td>\n",
       "      <td>0.064071</td>\n",
       "      <td>0.030333</td>\n",
       "      <td>0.020297</td>\n",
       "      <td>0.438371</td>\n",
       "    </tr>\n",
       "  </tbody>\n",
       "</table>\n",
       "</div>"
      ],
      "text/plain": [
       "            PatientId  AppointmentID        Age  Scholarship  Hipertension  \\\n",
       "No-show                                                                      \n",
       "No       1.476845e+14   5.681137e+06  37.790064     0.093903      0.204392   \n",
       "Yes      1.467523e+14   5.652259e+06  34.317667     0.115507      0.169004   \n",
       "\n",
       "         Diabetes  Alcoholism   Handcap  SMS_received  \n",
       "No-show                                                \n",
       "No       0.073837    0.030417  0.022742      0.291334  \n",
       "Yes      0.064071    0.030333  0.020297      0.438371  "
      ]
     },
     "execution_count": 34,
     "metadata": {},
     "output_type": "execute_result"
    }
   ],
   "source": [
    "df.groupby('No-show').mean()"
   ]
  },
  {
   "cell_type": "code",
   "execution_count": 35,
   "metadata": {},
   "outputs": [
    {
     "data": {
      "text/plain": [
       "(110527, 14)"
      ]
     },
     "execution_count": 35,
     "metadata": {},
     "output_type": "execute_result"
    }
   ],
   "source": [
    "df.shape"
   ]
  },
  {
   "cell_type": "code",
   "execution_count": 36,
   "metadata": {},
   "outputs": [
    {
     "name": "stdout",
     "output_type": "stream",
     "text": [
      "<class 'pandas.core.frame.DataFrame'>\n",
      "RangeIndex: 110527 entries, 0 to 110526\n",
      "Data columns (total 14 columns):\n",
      " #   Column          Non-Null Count   Dtype  \n",
      "---  ------          --------------   -----  \n",
      " 0   PatientId       110527 non-null  float64\n",
      " 1   AppointmentID   110527 non-null  int64  \n",
      " 2   Gender          110527 non-null  object \n",
      " 3   ScheduledDay    110527 non-null  object \n",
      " 4   AppointmentDay  110527 non-null  object \n",
      " 5   Age             110527 non-null  int64  \n",
      " 6   Neighbourhood   110527 non-null  object \n",
      " 7   Scholarship     110527 non-null  int64  \n",
      " 8   Hipertension    110527 non-null  int64  \n",
      " 9   Diabetes        110527 non-null  int64  \n",
      " 10  Alcoholism      110527 non-null  int64  \n",
      " 11  Handcap         110527 non-null  int64  \n",
      " 12  SMS_received    110527 non-null  int64  \n",
      " 13  No-show         110527 non-null  object \n",
      "dtypes: float64(1), int64(8), object(5)\n",
      "memory usage: 11.8+ MB\n"
     ]
    }
   ],
   "source": [
    "df.info()"
   ]
  },
  {
   "cell_type": "code",
   "execution_count": 37,
   "metadata": {},
   "outputs": [
    {
     "data": {
      "text/plain": [
       "0"
      ]
     },
     "execution_count": 37,
     "metadata": {},
     "output_type": "execute_result"
    }
   ],
   "source": [
    "# ensure that there is no nulls\n",
    "df.isnull().values.sum()"
   ]
  },
  {
   "cell_type": "code",
   "execution_count": 38,
   "metadata": {},
   "outputs": [
    {
     "data": {
      "text/plain": [
       "0"
      ]
     },
     "execution_count": 38,
     "metadata": {},
     "output_type": "execute_result"
    }
   ],
   "source": [
    "# ensure that there is no duplicated rows \n",
    "df.duplicated().sum()"
   ]
  },
  {
   "cell_type": "markdown",
   "metadata": {},
   "source": [
    "### we can conclude from the describtion and the info:\n",
    "<ol>\n",
    "    <li>There is no nulls </li>\n",
    "<li>There is wrong value/s in 'Age' column (-1)\n",
    "    <li>There is no duplicated rows\n",
    "    </ol>"
   ]
  },
  {
   "cell_type": "markdown",
   "metadata": {},
   "source": [
    "### Data Cleaning "
   ]
  },
  {
   "cell_type": "code",
   "execution_count": 39,
   "metadata": {},
   "outputs": [
    {
     "data": {
      "text/html": [
       "<div>\n",
       "<style scoped>\n",
       "    .dataframe tbody tr th:only-of-type {\n",
       "        vertical-align: middle;\n",
       "    }\n",
       "\n",
       "    .dataframe tbody tr th {\n",
       "        vertical-align: top;\n",
       "    }\n",
       "\n",
       "    .dataframe thead th {\n",
       "        text-align: right;\n",
       "    }\n",
       "</style>\n",
       "<table border=\"1\" class=\"dataframe\">\n",
       "  <thead>\n",
       "    <tr style=\"text-align: right;\">\n",
       "      <th></th>\n",
       "      <th>PatientId</th>\n",
       "      <th>AppointmentID</th>\n",
       "      <th>Gender</th>\n",
       "      <th>ScheduledDay</th>\n",
       "      <th>AppointmentDay</th>\n",
       "      <th>Age</th>\n",
       "      <th>Neighbourhood</th>\n",
       "      <th>Scholarship</th>\n",
       "      <th>Hipertension</th>\n",
       "      <th>Diabetes</th>\n",
       "      <th>Alcoholism</th>\n",
       "      <th>Handcap</th>\n",
       "      <th>SMS_received</th>\n",
       "      <th>No-show</th>\n",
       "    </tr>\n",
       "  </thead>\n",
       "  <tbody>\n",
       "    <tr>\n",
       "      <th>99832</th>\n",
       "      <td>4.659432e+14</td>\n",
       "      <td>5775010</td>\n",
       "      <td>F</td>\n",
       "      <td>2016-06-06T08:58:13Z</td>\n",
       "      <td>2016-06-06T00:00:00Z</td>\n",
       "      <td>-1</td>\n",
       "      <td>ROMÃO</td>\n",
       "      <td>0</td>\n",
       "      <td>0</td>\n",
       "      <td>0</td>\n",
       "      <td>0</td>\n",
       "      <td>0</td>\n",
       "      <td>0</td>\n",
       "      <td>No</td>\n",
       "    </tr>\n",
       "  </tbody>\n",
       "</table>\n",
       "</div>"
      ],
      "text/plain": [
       "          PatientId  AppointmentID Gender          ScheduledDay  \\\n",
       "99832  4.659432e+14        5775010      F  2016-06-06T08:58:13Z   \n",
       "\n",
       "             AppointmentDay  Age Neighbourhood  Scholarship  Hipertension  \\\n",
       "99832  2016-06-06T00:00:00Z   -1         ROMÃO            0             0   \n",
       "\n",
       "       Diabetes  Alcoholism  Handcap  SMS_received No-show  \n",
       "99832         0           0        0             0      No  "
      ]
     },
     "execution_count": 39,
     "metadata": {},
     "output_type": "execute_result"
    }
   ],
   "source": [
    "# show the rows with wronge Age value \n",
    "df.query('Age < 0')"
   ]
  },
  {
   "cell_type": "code",
   "execution_count": 40,
   "metadata": {},
   "outputs": [],
   "source": [
    "# delete that rows \n",
    "df.drop(df.query('Age < 0').index, inplace=True)"
   ]
  },
  {
   "cell_type": "code",
   "execution_count": 41,
   "metadata": {},
   "outputs": [
    {
     "data": {
      "text/plain": [
       "(110526, 14)"
      ]
     },
     "execution_count": 41,
     "metadata": {},
     "output_type": "execute_result"
    }
   ],
   "source": [
    "df.shape"
   ]
  },
  {
   "cell_type": "code",
   "execution_count": 42,
   "metadata": {},
   "outputs": [
    {
     "data": {
      "text/plain": [
       "0"
      ]
     },
     "execution_count": 42,
     "metadata": {},
     "output_type": "execute_result"
    }
   ],
   "source": [
    "df.Age.min()"
   ]
  },
  {
   "cell_type": "code",
   "execution_count": 43,
   "metadata": {},
   "outputs": [],
   "source": [
    "# we dont need {PatentId, AppointemtID, Neighbourhood, ScheduledDay, AppointmentDay}\n",
    "df.drop(['PatientId', 'AppointmentID', 'Neighbourhood','ScheduledDay','AppointmentDay'], axis='columns', inplace=True)"
   ]
  },
  {
   "cell_type": "code",
   "execution_count": 44,
   "metadata": {},
   "outputs": [],
   "source": [
    "# rename (no-show) to avoid confuion \n",
    "df.rename(columns = {'No-show': 'Show'}, inplace = True)"
   ]
  },
  {
   "cell_type": "code",
   "execution_count": 45,
   "metadata": {},
   "outputs": [],
   "source": [
    "# convert Show column to int to ease the manipulation\n",
    "# replace Yes(he is no show) with 0, and No (he is show) with 1 to mach the column name  \n",
    "df = df.replace(\"Yes\", 0, regex=True)\n",
    "df = df.replace(\"No\", 1, regex=True)"
   ]
  },
  {
   "cell_type": "code",
   "execution_count": 46,
   "metadata": {},
   "outputs": [],
   "source": [
    "# correct the typo in (handcap)\n",
    "df.rename(columns = {'Handcap': 'Handicap'}, inplace = True)"
   ]
  },
  {
   "cell_type": "markdown",
   "metadata": {},
   "source": [
    "<a id='eda'></a>\n",
    "## Exploratory Data Analysis\n",
    "\n",
    "I will take 'Show' property as independent\n"
   ]
  },
  {
   "cell_type": "code",
   "execution_count": 47,
   "metadata": {},
   "outputs": [
    {
     "data": {
      "text/html": [
       "<style  type=\"text/css\" >\n",
       "#T_d4cc6d81_dc9c_11eb_903f_4ccc6a8a51a5row0_col0,#T_d4cc6d81_dc9c_11eb_903f_4ccc6a8a51a5row1_col1,#T_d4cc6d81_dc9c_11eb_903f_4ccc6a8a51a5row2_col2,#T_d4cc6d81_dc9c_11eb_903f_4ccc6a8a51a5row3_col3,#T_d4cc6d81_dc9c_11eb_903f_4ccc6a8a51a5row4_col4,#T_d4cc6d81_dc9c_11eb_903f_4ccc6a8a51a5row5_col5,#T_d4cc6d81_dc9c_11eb_903f_4ccc6a8a51a5row6_col6,#T_d4cc6d81_dc9c_11eb_903f_4ccc6a8a51a5row7_col7{\n",
       "            background-color:  #b40426;\n",
       "            color:  #f1f1f1;\n",
       "        }#T_d4cc6d81_dc9c_11eb_903f_4ccc6a8a51a5row0_col1,#T_d4cc6d81_dc9c_11eb_903f_4ccc6a8a51a5row1_col0,#T_d4cc6d81_dc9c_11eb_903f_4ccc6a8a51a5row1_col2,#T_d4cc6d81_dc9c_11eb_903f_4ccc6a8a51a5row1_col3,#T_d4cc6d81_dc9c_11eb_903f_4ccc6a8a51a5row6_col4,#T_d4cc6d81_dc9c_11eb_903f_4ccc6a8a51a5row6_col5,#T_d4cc6d81_dc9c_11eb_903f_4ccc6a8a51a5row6_col7,#T_d4cc6d81_dc9c_11eb_903f_4ccc6a8a51a5row7_col6{\n",
       "            background-color:  #3b4cc0;\n",
       "            color:  #f1f1f1;\n",
       "        }#T_d4cc6d81_dc9c_11eb_903f_4ccc6a8a51a5row0_col2{\n",
       "            background-color:  #e0dbd8;\n",
       "            color:  #000000;\n",
       "        }#T_d4cc6d81_dc9c_11eb_903f_4ccc6a8a51a5row0_col3{\n",
       "            background-color:  #a2c1ff;\n",
       "            color:  #000000;\n",
       "        }#T_d4cc6d81_dc9c_11eb_903f_4ccc6a8a51a5row0_col4,#T_d4cc6d81_dc9c_11eb_903f_4ccc6a8a51a5row5_col7{\n",
       "            background-color:  #5f7fe8;\n",
       "            color:  #000000;\n",
       "        }#T_d4cc6d81_dc9c_11eb_903f_4ccc6a8a51a5row0_col5,#T_d4cc6d81_dc9c_11eb_903f_4ccc6a8a51a5row3_col6,#T_d4cc6d81_dc9c_11eb_903f_4ccc6a8a51a5row5_col2{\n",
       "            background-color:  #5977e3;\n",
       "            color:  #000000;\n",
       "        }#T_d4cc6d81_dc9c_11eb_903f_4ccc6a8a51a5row0_col6{\n",
       "            background-color:  #6180e9;\n",
       "            color:  #000000;\n",
       "        }#T_d4cc6d81_dc9c_11eb_903f_4ccc6a8a51a5row0_col7{\n",
       "            background-color:  #6f92f3;\n",
       "            color:  #000000;\n",
       "        }#T_d4cc6d81_dc9c_11eb_903f_4ccc6a8a51a5row1_col4,#T_d4cc6d81_dc9c_11eb_903f_4ccc6a8a51a5row3_col1{\n",
       "            background-color:  #4c66d6;\n",
       "            color:  #000000;\n",
       "        }#T_d4cc6d81_dc9c_11eb_903f_4ccc6a8a51a5row1_col5,#T_d4cc6d81_dc9c_11eb_903f_4ccc6a8a51a5row6_col2{\n",
       "            background-color:  #3e51c5;\n",
       "            color:  #f1f1f1;\n",
       "        }#T_d4cc6d81_dc9c_11eb_903f_4ccc6a8a51a5row1_col6,#T_d4cc6d81_dc9c_11eb_903f_4ccc6a8a51a5row4_col1{\n",
       "            background-color:  #5e7de7;\n",
       "            color:  #000000;\n",
       "        }#T_d4cc6d81_dc9c_11eb_903f_4ccc6a8a51a5row1_col7,#T_d4cc6d81_dc9c_11eb_903f_4ccc6a8a51a5row4_col6{\n",
       "            background-color:  #5572df;\n",
       "            color:  #000000;\n",
       "        }#T_d4cc6d81_dc9c_11eb_903f_4ccc6a8a51a5row2_col0{\n",
       "            background-color:  #e8d6cc;\n",
       "            color:  #000000;\n",
       "        }#T_d4cc6d81_dc9c_11eb_903f_4ccc6a8a51a5row2_col1{\n",
       "            background-color:  #4f69d9;\n",
       "            color:  #000000;\n",
       "        }#T_d4cc6d81_dc9c_11eb_903f_4ccc6a8a51a5row2_col3{\n",
       "            background-color:  #cedaeb;\n",
       "            color:  #000000;\n",
       "        }#T_d4cc6d81_dc9c_11eb_903f_4ccc6a8a51a5row2_col4,#T_d4cc6d81_dc9c_11eb_903f_4ccc6a8a51a5row4_col7{\n",
       "            background-color:  #5d7ce6;\n",
       "            color:  #000000;\n",
       "        }#T_d4cc6d81_dc9c_11eb_903f_4ccc6a8a51a5row2_col5{\n",
       "            background-color:  #5a78e4;\n",
       "            color:  #000000;\n",
       "        }#T_d4cc6d81_dc9c_11eb_903f_4ccc6a8a51a5row2_col6,#T_d4cc6d81_dc9c_11eb_903f_4ccc6a8a51a5row4_col2{\n",
       "            background-color:  #5b7ae5;\n",
       "            color:  #000000;\n",
       "        }#T_d4cc6d81_dc9c_11eb_903f_4ccc6a8a51a5row2_col7{\n",
       "            background-color:  #6788ee;\n",
       "            color:  #000000;\n",
       "        }#T_d4cc6d81_dc9c_11eb_903f_4ccc6a8a51a5row3_col0{\n",
       "            background-color:  #b1cbfc;\n",
       "            color:  #000000;\n",
       "        }#T_d4cc6d81_dc9c_11eb_903f_4ccc6a8a51a5row3_col2{\n",
       "            background-color:  #cdd9ec;\n",
       "            color:  #000000;\n",
       "        }#T_d4cc6d81_dc9c_11eb_903f_4ccc6a8a51a5row3_col4{\n",
       "            background-color:  #485fd1;\n",
       "            color:  #f1f1f1;\n",
       "        }#T_d4cc6d81_dc9c_11eb_903f_4ccc6a8a51a5row3_col5,#T_d4cc6d81_dc9c_11eb_903f_4ccc6a8a51a5row5_col3{\n",
       "            background-color:  #536edd;\n",
       "            color:  #000000;\n",
       "        }#T_d4cc6d81_dc9c_11eb_903f_4ccc6a8a51a5row3_col7{\n",
       "            background-color:  #6282ea;\n",
       "            color:  #000000;\n",
       "        }#T_d4cc6d81_dc9c_11eb_903f_4ccc6a8a51a5row4_col0{\n",
       "            background-color:  #7295f4;\n",
       "            color:  #000000;\n",
       "        }#T_d4cc6d81_dc9c_11eb_903f_4ccc6a8a51a5row4_col3,#T_d4cc6d81_dc9c_11eb_903f_4ccc6a8a51a5row7_col3{\n",
       "            background-color:  #465ecf;\n",
       "            color:  #f1f1f1;\n",
       "        }#T_d4cc6d81_dc9c_11eb_903f_4ccc6a8a51a5row4_col5,#T_d4cc6d81_dc9c_11eb_903f_4ccc6a8a51a5row5_col4,#T_d4cc6d81_dc9c_11eb_903f_4ccc6a8a51a5row7_col5{\n",
       "            background-color:  #4358cb;\n",
       "            color:  #f1f1f1;\n",
       "        }#T_d4cc6d81_dc9c_11eb_903f_4ccc6a8a51a5row5_col0{\n",
       "            background-color:  #6b8df0;\n",
       "            color:  #000000;\n",
       "        }#T_d4cc6d81_dc9c_11eb_903f_4ccc6a8a51a5row5_col1{\n",
       "            background-color:  #516ddb;\n",
       "            color:  #000000;\n",
       "        }#T_d4cc6d81_dc9c_11eb_903f_4ccc6a8a51a5row5_col6{\n",
       "            background-color:  #5673e0;\n",
       "            color:  #000000;\n",
       "        }#T_d4cc6d81_dc9c_11eb_903f_4ccc6a8a51a5row6_col0{\n",
       "            background-color:  #5875e1;\n",
       "            color:  #000000;\n",
       "        }#T_d4cc6d81_dc9c_11eb_903f_4ccc6a8a51a5row6_col1{\n",
       "            background-color:  #5470de;\n",
       "            color:  #000000;\n",
       "        }#T_d4cc6d81_dc9c_11eb_903f_4ccc6a8a51a5row6_col3{\n",
       "            background-color:  #3d50c3;\n",
       "            color:  #f1f1f1;\n",
       "        }#T_d4cc6d81_dc9c_11eb_903f_4ccc6a8a51a5row7_col0{\n",
       "            background-color:  #6687ed;\n",
       "            color:  #000000;\n",
       "        }#T_d4cc6d81_dc9c_11eb_903f_4ccc6a8a51a5row7_col1{\n",
       "            background-color:  #4b64d5;\n",
       "            color:  #f1f1f1;\n",
       "        }#T_d4cc6d81_dc9c_11eb_903f_4ccc6a8a51a5row7_col2{\n",
       "            background-color:  #4a63d3;\n",
       "            color:  #f1f1f1;\n",
       "        }#T_d4cc6d81_dc9c_11eb_903f_4ccc6a8a51a5row7_col4{\n",
       "            background-color:  #4257c9;\n",
       "            color:  #f1f1f1;\n",
       "        }</style><table id=\"T_d4cc6d81_dc9c_11eb_903f_4ccc6a8a51a5\" ><thead>    <tr>        <th class=\"blank level0\" ></th>        <th class=\"col_heading level0 col0\" >Age</th>        <th class=\"col_heading level0 col1\" >Scholarship</th>        <th class=\"col_heading level0 col2\" >Hipertension</th>        <th class=\"col_heading level0 col3\" >Diabetes</th>        <th class=\"col_heading level0 col4\" >Alcoholism</th>        <th class=\"col_heading level0 col5\" >Handicap</th>        <th class=\"col_heading level0 col6\" >SMS_received</th>        <th class=\"col_heading level0 col7\" >Show</th>    </tr></thead><tbody>\n",
       "                <tr>\n",
       "                        <th id=\"T_d4cc6d81_dc9c_11eb_903f_4ccc6a8a51a5level0_row0\" class=\"row_heading level0 row0\" >Age</th>\n",
       "                        <td id=\"T_d4cc6d81_dc9c_11eb_903f_4ccc6a8a51a5row0_col0\" class=\"data row0 col0\" >1.0000</td>\n",
       "                        <td id=\"T_d4cc6d81_dc9c_11eb_903f_4ccc6a8a51a5row0_col1\" class=\"data row0 col1\" >-0.0925</td>\n",
       "                        <td id=\"T_d4cc6d81_dc9c_11eb_903f_4ccc6a8a51a5row0_col2\" class=\"data row0 col2\" >0.5046</td>\n",
       "                        <td id=\"T_d4cc6d81_dc9c_11eb_903f_4ccc6a8a51a5row0_col3\" class=\"data row0 col3\" >0.2924</td>\n",
       "                        <td id=\"T_d4cc6d81_dc9c_11eb_903f_4ccc6a8a51a5row0_col4\" class=\"data row0 col4\" >0.0958</td>\n",
       "                        <td id=\"T_d4cc6d81_dc9c_11eb_903f_4ccc6a8a51a5row0_col5\" class=\"data row0 col5\" >0.0780</td>\n",
       "                        <td id=\"T_d4cc6d81_dc9c_11eb_903f_4ccc6a8a51a5row0_col6\" class=\"data row0 col6\" >0.0126</td>\n",
       "                        <td id=\"T_d4cc6d81_dc9c_11eb_903f_4ccc6a8a51a5row0_col7\" class=\"data row0 col7\" >0.0603</td>\n",
       "            </tr>\n",
       "            <tr>\n",
       "                        <th id=\"T_d4cc6d81_dc9c_11eb_903f_4ccc6a8a51a5level0_row1\" class=\"row_heading level0 row1\" >Scholarship</th>\n",
       "                        <td id=\"T_d4cc6d81_dc9c_11eb_903f_4ccc6a8a51a5row1_col0\" class=\"data row1 col0\" >-0.0925</td>\n",
       "                        <td id=\"T_d4cc6d81_dc9c_11eb_903f_4ccc6a8a51a5row1_col1\" class=\"data row1 col1\" >1.0000</td>\n",
       "                        <td id=\"T_d4cc6d81_dc9c_11eb_903f_4ccc6a8a51a5row1_col2\" class=\"data row1 col2\" >-0.0197</td>\n",
       "                        <td id=\"T_d4cc6d81_dc9c_11eb_903f_4ccc6a8a51a5row1_col3\" class=\"data row1 col3\" >-0.0249</td>\n",
       "                        <td id=\"T_d4cc6d81_dc9c_11eb_903f_4ccc6a8a51a5row1_col4\" class=\"data row1 col4\" >0.0350</td>\n",
       "                        <td id=\"T_d4cc6d81_dc9c_11eb_903f_4ccc6a8a51a5row1_col5\" class=\"data row1 col5\" >-0.0086</td>\n",
       "                        <td id=\"T_d4cc6d81_dc9c_11eb_903f_4ccc6a8a51a5row1_col6\" class=\"data row1 col6\" >0.0012</td>\n",
       "                        <td id=\"T_d4cc6d81_dc9c_11eb_903f_4ccc6a8a51a5row1_col7\" class=\"data row1 col7\" >-0.0291</td>\n",
       "            </tr>\n",
       "            <tr>\n",
       "                        <th id=\"T_d4cc6d81_dc9c_11eb_903f_4ccc6a8a51a5level0_row2\" class=\"row_heading level0 row2\" >Hipertension</th>\n",
       "                        <td id=\"T_d4cc6d81_dc9c_11eb_903f_4ccc6a8a51a5row2_col0\" class=\"data row2 col0\" >0.5046</td>\n",
       "                        <td id=\"T_d4cc6d81_dc9c_11eb_903f_4ccc6a8a51a5row2_col1\" class=\"data row2 col1\" >-0.0197</td>\n",
       "                        <td id=\"T_d4cc6d81_dc9c_11eb_903f_4ccc6a8a51a5row2_col2\" class=\"data row2 col2\" >1.0000</td>\n",
       "                        <td id=\"T_d4cc6d81_dc9c_11eb_903f_4ccc6a8a51a5row2_col3\" class=\"data row2 col3\" >0.4331</td>\n",
       "                        <td id=\"T_d4cc6d81_dc9c_11eb_903f_4ccc6a8a51a5row2_col4\" class=\"data row2 col4\" >0.0880</td>\n",
       "                        <td id=\"T_d4cc6d81_dc9c_11eb_903f_4ccc6a8a51a5row2_col5\" class=\"data row2 col5\" >0.0801</td>\n",
       "                        <td id=\"T_d4cc6d81_dc9c_11eb_903f_4ccc6a8a51a5row2_col6\" class=\"data row2 col6\" >-0.0063</td>\n",
       "                        <td id=\"T_d4cc6d81_dc9c_11eb_903f_4ccc6a8a51a5row2_col7\" class=\"data row2 col7\" >0.0357</td>\n",
       "            </tr>\n",
       "            <tr>\n",
       "                        <th id=\"T_d4cc6d81_dc9c_11eb_903f_4ccc6a8a51a5level0_row3\" class=\"row_heading level0 row3\" >Diabetes</th>\n",
       "                        <td id=\"T_d4cc6d81_dc9c_11eb_903f_4ccc6a8a51a5row3_col0\" class=\"data row3 col0\" >0.2924</td>\n",
       "                        <td id=\"T_d4cc6d81_dc9c_11eb_903f_4ccc6a8a51a5row3_col1\" class=\"data row3 col1\" >-0.0249</td>\n",
       "                        <td id=\"T_d4cc6d81_dc9c_11eb_903f_4ccc6a8a51a5row3_col2\" class=\"data row3 col2\" >0.4331</td>\n",
       "                        <td id=\"T_d4cc6d81_dc9c_11eb_903f_4ccc6a8a51a5row3_col3\" class=\"data row3 col3\" >1.0000</td>\n",
       "                        <td id=\"T_d4cc6d81_dc9c_11eb_903f_4ccc6a8a51a5row3_col4\" class=\"data row3 col4\" >0.0185</td>\n",
       "                        <td id=\"T_d4cc6d81_dc9c_11eb_903f_4ccc6a8a51a5row3_col5\" class=\"data row3 col5\" >0.0575</td>\n",
       "                        <td id=\"T_d4cc6d81_dc9c_11eb_903f_4ccc6a8a51a5row3_col6\" class=\"data row3 col6\" >-0.0146</td>\n",
       "                        <td id=\"T_d4cc6d81_dc9c_11eb_903f_4ccc6a8a51a5row3_col7\" class=\"data row3 col7\" >0.0152</td>\n",
       "            </tr>\n",
       "            <tr>\n",
       "                        <th id=\"T_d4cc6d81_dc9c_11eb_903f_4ccc6a8a51a5level0_row4\" class=\"row_heading level0 row4\" >Alcoholism</th>\n",
       "                        <td id=\"T_d4cc6d81_dc9c_11eb_903f_4ccc6a8a51a5row4_col0\" class=\"data row4 col0\" >0.0958</td>\n",
       "                        <td id=\"T_d4cc6d81_dc9c_11eb_903f_4ccc6a8a51a5row4_col1\" class=\"data row4 col1\" >0.0350</td>\n",
       "                        <td id=\"T_d4cc6d81_dc9c_11eb_903f_4ccc6a8a51a5row4_col2\" class=\"data row4 col2\" >0.0880</td>\n",
       "                        <td id=\"T_d4cc6d81_dc9c_11eb_903f_4ccc6a8a51a5row4_col3\" class=\"data row4 col3\" >0.0185</td>\n",
       "                        <td id=\"T_d4cc6d81_dc9c_11eb_903f_4ccc6a8a51a5row4_col4\" class=\"data row4 col4\" >1.0000</td>\n",
       "                        <td id=\"T_d4cc6d81_dc9c_11eb_903f_4ccc6a8a51a5row4_col5\" class=\"data row4 col5\" >0.0046</td>\n",
       "                        <td id=\"T_d4cc6d81_dc9c_11eb_903f_4ccc6a8a51a5row4_col6\" class=\"data row4 col6\" >-0.0261</td>\n",
       "                        <td id=\"T_d4cc6d81_dc9c_11eb_903f_4ccc6a8a51a5row4_col7\" class=\"data row4 col7\" >0.0002</td>\n",
       "            </tr>\n",
       "            <tr>\n",
       "                        <th id=\"T_d4cc6d81_dc9c_11eb_903f_4ccc6a8a51a5level0_row5\" class=\"row_heading level0 row5\" >Handicap</th>\n",
       "                        <td id=\"T_d4cc6d81_dc9c_11eb_903f_4ccc6a8a51a5row5_col0\" class=\"data row5 col0\" >0.0780</td>\n",
       "                        <td id=\"T_d4cc6d81_dc9c_11eb_903f_4ccc6a8a51a5row5_col1\" class=\"data row5 col1\" >-0.0086</td>\n",
       "                        <td id=\"T_d4cc6d81_dc9c_11eb_903f_4ccc6a8a51a5row5_col2\" class=\"data row5 col2\" >0.0801</td>\n",
       "                        <td id=\"T_d4cc6d81_dc9c_11eb_903f_4ccc6a8a51a5row5_col3\" class=\"data row5 col3\" >0.0575</td>\n",
       "                        <td id=\"T_d4cc6d81_dc9c_11eb_903f_4ccc6a8a51a5row5_col4\" class=\"data row5 col4\" >0.0046</td>\n",
       "                        <td id=\"T_d4cc6d81_dc9c_11eb_903f_4ccc6a8a51a5row5_col5\" class=\"data row5 col5\" >1.0000</td>\n",
       "                        <td id=\"T_d4cc6d81_dc9c_11eb_903f_4ccc6a8a51a5row5_col6\" class=\"data row5 col6\" >-0.0242</td>\n",
       "                        <td id=\"T_d4cc6d81_dc9c_11eb_903f_4ccc6a8a51a5row5_col7\" class=\"data row5 col7\" >0.0061</td>\n",
       "            </tr>\n",
       "            <tr>\n",
       "                        <th id=\"T_d4cc6d81_dc9c_11eb_903f_4ccc6a8a51a5level0_row6\" class=\"row_heading level0 row6\" >SMS_received</th>\n",
       "                        <td id=\"T_d4cc6d81_dc9c_11eb_903f_4ccc6a8a51a5row6_col0\" class=\"data row6 col0\" >0.0126</td>\n",
       "                        <td id=\"T_d4cc6d81_dc9c_11eb_903f_4ccc6a8a51a5row6_col1\" class=\"data row6 col1\" >0.0012</td>\n",
       "                        <td id=\"T_d4cc6d81_dc9c_11eb_903f_4ccc6a8a51a5row6_col2\" class=\"data row6 col2\" >-0.0063</td>\n",
       "                        <td id=\"T_d4cc6d81_dc9c_11eb_903f_4ccc6a8a51a5row6_col3\" class=\"data row6 col3\" >-0.0146</td>\n",
       "                        <td id=\"T_d4cc6d81_dc9c_11eb_903f_4ccc6a8a51a5row6_col4\" class=\"data row6 col4\" >-0.0261</td>\n",
       "                        <td id=\"T_d4cc6d81_dc9c_11eb_903f_4ccc6a8a51a5row6_col5\" class=\"data row6 col5\" >-0.0242</td>\n",
       "                        <td id=\"T_d4cc6d81_dc9c_11eb_903f_4ccc6a8a51a5row6_col6\" class=\"data row6 col6\" >1.0000</td>\n",
       "                        <td id=\"T_d4cc6d81_dc9c_11eb_903f_4ccc6a8a51a5row6_col7\" class=\"data row6 col7\" >-0.1264</td>\n",
       "            </tr>\n",
       "            <tr>\n",
       "                        <th id=\"T_d4cc6d81_dc9c_11eb_903f_4ccc6a8a51a5level0_row7\" class=\"row_heading level0 row7\" >Show</th>\n",
       "                        <td id=\"T_d4cc6d81_dc9c_11eb_903f_4ccc6a8a51a5row7_col0\" class=\"data row7 col0\" >0.0603</td>\n",
       "                        <td id=\"T_d4cc6d81_dc9c_11eb_903f_4ccc6a8a51a5row7_col1\" class=\"data row7 col1\" >-0.0291</td>\n",
       "                        <td id=\"T_d4cc6d81_dc9c_11eb_903f_4ccc6a8a51a5row7_col2\" class=\"data row7 col2\" >0.0357</td>\n",
       "                        <td id=\"T_d4cc6d81_dc9c_11eb_903f_4ccc6a8a51a5row7_col3\" class=\"data row7 col3\" >0.0152</td>\n",
       "                        <td id=\"T_d4cc6d81_dc9c_11eb_903f_4ccc6a8a51a5row7_col4\" class=\"data row7 col4\" >0.0002</td>\n",
       "                        <td id=\"T_d4cc6d81_dc9c_11eb_903f_4ccc6a8a51a5row7_col5\" class=\"data row7 col5\" >0.0061</td>\n",
       "                        <td id=\"T_d4cc6d81_dc9c_11eb_903f_4ccc6a8a51a5row7_col6\" class=\"data row7 col6\" >-0.1264</td>\n",
       "                        <td id=\"T_d4cc6d81_dc9c_11eb_903f_4ccc6a8a51a5row7_col7\" class=\"data row7 col7\" >1.0000</td>\n",
       "            </tr>\n",
       "    </tbody></table>"
      ],
      "text/plain": [
       "<pandas.io.formats.style.Styler at 0x199dd088820>"
      ]
     },
     "execution_count": 47,
     "metadata": {},
     "output_type": "execute_result"
    }
   ],
   "source": [
    "corr = df.corr()\n",
    "corr.style.background_gradient(cmap='coolwarm').set_precision(4)"
   ]
  },
  {
   "cell_type": "markdown",
   "metadata": {},
   "source": [
    "\n",
    "### Does having chronic disease (Hipertension or Diabetes) encourage to show ?"
   ]
  },
  {
   "cell_type": "code",
   "execution_count": 48,
   "metadata": {
    "scrolled": true
   },
   "outputs": [],
   "source": [
    "# find patient who have any chronic diseases\n",
    "chronic=df.query('Diabetes ==1 | Hipertension==1')\n",
    "\n",
    "#find patient who doesnt have any chronic diseases\n",
    "not_chronic=df.query('Diabetes != 1 & Hipertension !=1')"
   ]
  },
  {
   "cell_type": "code",
   "execution_count": 49,
   "metadata": {},
   "outputs": [
    {
     "data": {
      "text/plain": [
       "0.8253934130191762"
      ]
     },
     "execution_count": 49,
     "metadata": {},
     "output_type": "execute_result"
    }
   ],
   "source": [
    "chronic.Show.mean()"
   ]
  },
  {
   "cell_type": "code",
   "execution_count": 50,
   "metadata": {
    "scrolled": true
   },
   "outputs": [
    {
     "data": {
      "text/plain": [
       "0.7907824173809415"
      ]
     },
     "execution_count": 50,
     "metadata": {},
     "output_type": "execute_result"
    }
   ],
   "source": [
    "not_chronic.Show.mean()"
   ]
  },
  {
   "cell_type": "code",
   "execution_count": 51,
   "metadata": {},
   "outputs": [
    {
     "data": {
      "image/png": "[encoded data removed]",
      "text/plain": [
       "<Figure size 432x288 with 1 Axes>"
      ]
     },
     "metadata": {
      "needs_background": "light"
     },
     "output_type": "display_data"
    }
   ],
   "source": [
    "chronic_mean = chronic[\"Show\"].mean()*100\n",
    "not_chronic_mean = not_chronic.Show.mean()*100\n",
    "means = [chronic_mean, not_chronic_mean]\n",
    "index = [\"Patient with chronic disease\",\"Normal patient\"]\n",
    "\n",
    "plt.title(\"Having chornic disease VS Showing\")\n",
    "plt.ylabel('% of showing')\n",
    "plt.bar(index, means, color=[ 'red', 'green'])\n",
    "\n",
    "plt.xticks(index)\n",
    "plt.show()"
   ]
  },
  {
   "cell_type": "markdown",
   "metadata": {},
   "source": [
    "#### Answer:\n",
    "> As we can see, patient with chronic disease are more showing "
   ]
  },
  {
   "cell_type": "markdown",
   "metadata": {},
   "source": [
    " \n",
    " \n",
    " \n",
    "### Are olds people more eager than younge to show ?"
   ]
  },
  {
   "cell_type": "code",
   "execution_count": 52,
   "metadata": {},
   "outputs": [
    {
     "data": {
      "image/png": "[encoded data removed]",
      "text/plain": [
       "<Figure size 432x288 with 1 Axes>"
      ]
     },
     "metadata": {
      "needs_background": "light"
     },
     "output_type": "display_data"
    }
   ],
   "source": [
    "sns.boxplot( x=df[\"Show\"], y=df[\"Age\"] );\n",
    "plt.title('Age VS Show');"
   ]
  },
  {
   "cell_type": "markdown",
   "metadata": {},
   "source": [
    "#### Answer:\n",
    "> Yes, they are."
   ]
  },
  {
   "cell_type": "markdown",
   "metadata": {},
   "source": [
    "### Does receiving SMS encourage to show ?"
   ]
  },
  {
   "cell_type": "code",
   "execution_count": 53,
   "metadata": {},
   "outputs": [],
   "source": [
    "def relationWithShowing (Column, Title, XLabel):\n",
    "    df.groupby(Column).Show.mean().plot(kind=\"bar\");\n",
    "    plt.ylabel('Showing')\n",
    "    plt.xlabel(XLabel)\n",
    "    plt.title(Title);\n",
    "    plt.xticks(rotation=360)\n",
    "    plt.subplots_adjust(bottom= 0.2, top = 0.98)\n",
    "    plt.show()"
   ]
  },
  {
   "cell_type": "code",
   "execution_count": 54,
   "metadata": {},
   "outputs": [
    {
     "data": {
      "image/png": "[encoded data removed]",
      "text/plain": [
       "<Figure size 432x288 with 1 Axes>"
      ]
     },
     "metadata": {
      "needs_background": "light"
     },
     "output_type": "display_data"
    }
   ],
   "source": [
    "relationWithShowing('SMS_received', 'Showing VS Received SMS', 'Does paitent received SMS')"
   ]
  },
  {
   "cell_type": "markdown",
   "metadata": {},
   "source": [
    "#### Answer: \n",
    "> unfortunately, it's not. We need to use another way to reminder our patients"
   ]
  },
  {
   "cell_type": "markdown",
   "metadata": {},
   "source": [
    "### Does Gender make a diffrence in showing the patient?"
   ]
  },
  {
   "cell_type": "code",
   "execution_count": 55,
   "metadata": {},
   "outputs": [
    {
     "data": {
      "image/png": "[encoded data removed]",
      "text/plain": [
       "<Figure size 432x288 with 1 Axes>"
      ]
     },
     "metadata": {
      "needs_background": "light"
     },
     "output_type": "display_data"
    }
   ],
   "source": [
    "relationWithShowing('Gender', 'Showing VS Gender', 'Gender')"
   ]
  },
  {
   "cell_type": "markdown",
   "metadata": {},
   "source": [
    "#### Answer: \n",
    "> As shown, the is no big difference"
   ]
  },
  {
   "cell_type": "markdown",
   "metadata": {},
   "source": [
    "<a id='conclusions'></a>\n",
    "## Conclusions"
   ]
  },
  {
   "cell_type": "markdown",
   "metadata": {},
   "source": [
    "Based on the analysis above, we can see that most people in this data are between 20 and 60. Most of them was shown to their appointments.\n",
    "\n",
    "People who have a chronic disease are more likely to show than others. Older people are more likely to show than youngs. However, Gender does not make a difference, and recieving SMS may affect negitavly.\n",
    "\n",
    "\n",
    "Therefore, a 50-year-old patient or above and has a chronic disease usually will show to the appointment.\n",
    "\n",
    "\n",
    "This analysis also has some limitations. It analyze a sample in Brazil, where maybe an external factors. In addition, there is no mintion about factors that will make a big diffrence like class of the patient, how he scheduled his appointmen, and other factors.\n",
    "\n",
    "There are also further exploration can be done. For example, the period between scheduled day and appointment day could influence the show of the patient, and the neighbourhood of the patient as well."
   ]
  },
  {
   "cell_type": "code",
   "execution_count": null,
   "metadata": {},
   "outputs": [],
   "source": []
  }
 ],
 "metadata": {
  "kernelspec": {
   "display_name": "Python 3",
   "language": "python",
   "name": "python3"
  },
  "language_info": {
   "codemirror_mode": {
    "name": "ipython",
    "version": 3
   },
   "file_extension": ".py",
   "mimetype": "text/x-python",
   "name": "python",
   "nbconvert_exporter": "python",
   "pygments_lexer": "ipython3",
   "version": "3.8.5"
  }
 },
 "nbformat": 4,
 "nbformat_minor": 2
}
